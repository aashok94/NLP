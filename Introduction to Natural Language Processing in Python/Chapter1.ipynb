{
 "cells": [
  {
   "cell_type": "code",
   "execution_count": 1,
   "metadata": {},
   "outputs": [],
   "source": [
    "#RegEx"
   ]
  },
  {
   "cell_type": "code",
   "execution_count": 2,
   "metadata": {},
   "outputs": [],
   "source": [
    "import re\n",
    "from nltk.tokenize import word_tokenize, sent_tokenize\n",
    "from nltk.tokenize import regexp_tokenize, TweetTokenizer\n",
    "from matplotlib import pyplot as plt"
   ]
  },
  {
   "cell_type": "code",
   "execution_count": 3,
   "metadata": {},
   "outputs": [],
   "source": [
    "my_string = \"Let's write my first RegEx!\""
   ]
  },
  {
   "cell_type": "code",
   "execution_count": 4,
   "metadata": {},
   "outputs": [
    {
     "data": {
      "text/plain": [
       "['L',\n",
       " 'e',\n",
       " 't',\n",
       " 's',\n",
       " 'w',\n",
       " 'r',\n",
       " 'i',\n",
       " 't',\n",
       " 'e',\n",
       " 'm',\n",
       " 'y',\n",
       " 'f',\n",
       " 'i',\n",
       " 'r',\n",
       " 's',\n",
       " 't',\n",
       " 'R',\n",
       " 'e',\n",
       " 'g',\n",
       " 'E',\n",
       " 'x']"
      ]
     },
     "execution_count": 4,
     "metadata": {},
     "output_type": "execute_result"
    }
   ],
   "source": [
    "re.findall(r\"\\w\", my_string)"
   ]
  },
  {
   "cell_type": "code",
   "execution_count": 5,
   "metadata": {},
   "outputs": [
    {
     "data": {
      "text/plain": [
       "['Let', 's', 'write', 'my', 'first', 'RegEx']"
      ]
     },
     "execution_count": 5,
     "metadata": {},
     "output_type": "execute_result"
    }
   ],
   "source": [
    "re.findall(r\"\\w+\", my_string)"
   ]
  },
  {
   "cell_type": "code",
   "execution_count": 6,
   "metadata": {},
   "outputs": [
    {
     "data": {
      "text/plain": [
       "['e',\n",
       " 't',\n",
       " 's',\n",
       " 'w',\n",
       " 'r',\n",
       " 'i',\n",
       " 't',\n",
       " 'e',\n",
       " 'm',\n",
       " 'y',\n",
       " 'f',\n",
       " 'i',\n",
       " 'r',\n",
       " 's',\n",
       " 't',\n",
       " 'e',\n",
       " 'g',\n",
       " 'x']"
      ]
     },
     "execution_count": 6,
     "metadata": {},
     "output_type": "execute_result"
    }
   ],
   "source": [
    "re.findall(r\"[a-z]\", my_string)"
   ]
  },
  {
   "cell_type": "code",
   "execution_count": 7,
   "metadata": {},
   "outputs": [
    {
     "data": {
      "text/plain": [
       "[' ', ' ', ' ', ' ']"
      ]
     },
     "execution_count": 7,
     "metadata": {},
     "output_type": "execute_result"
    }
   ],
   "source": [
    "re.findall(r\"\\s+\", my_string)"
   ]
  },
  {
   "cell_type": "code",
   "execution_count": 8,
   "metadata": {},
   "outputs": [],
   "source": [
    "my_string1=\"Let's write my first RegEx! Won't that be fun? I sure think so. Can you find 4 sentences? Or perhaps, all 19 words?\""
   ]
  },
  {
   "cell_type": "code",
   "execution_count": 9,
   "metadata": {},
   "outputs": [
    {
     "name": "stdout",
     "output_type": "stream",
     "text": [
      "[\"Let's write my first RegEx\", \" Won't that be fun\", ' I sure think so', ' Can you find 4 sentences', ' Or perhaps, all 19 words', '']\n"
     ]
    }
   ],
   "source": [
    "sentence_endings = r\"[.?!]\"\n",
    "print(re.split(sentence_endings, my_string1))"
   ]
  },
  {
   "cell_type": "code",
   "execution_count": 10,
   "metadata": {},
   "outputs": [
    {
     "name": "stdout",
     "output_type": "stream",
     "text": [
      "['Let', 'RegEx', 'Won', 'Can', 'Or']\n"
     ]
    }
   ],
   "source": [
    "capitalized_words = r\"[A-Z]\\w+\"\n",
    "print(re.findall(capitalized_words, my_string1))"
   ]
  },
  {
   "cell_type": "code",
   "execution_count": 11,
   "metadata": {},
   "outputs": [
    {
     "name": "stdout",
     "output_type": "stream",
     "text": [
      "[\"Let's\", 'write', 'my', 'first', 'RegEx!', \"Won't\", 'that', 'be', 'fun?', 'I', 'sure', 'think', 'so.', 'Can', 'you', 'find', '4', 'sentences?', 'Or', 'perhaps,', 'all', '19', 'words?']\n"
     ]
    }
   ],
   "source": [
    "spaces = r\"\\s+\"\n",
    "print(re.split(spaces, my_string1))"
   ]
  },
  {
   "cell_type": "code",
   "execution_count": 12,
   "metadata": {},
   "outputs": [
    {
     "name": "stdout",
     "output_type": "stream",
     "text": [
      "['4', '19']\n"
     ]
    }
   ],
   "source": [
    "digits = r\"\\d+\"\n",
    "print(re.findall(digits, my_string1))"
   ]
  },
  {
   "cell_type": "code",
   "execution_count": 13,
   "metadata": {},
   "outputs": [
    {
     "data": {
      "text/plain": [
       "['Hey', 'there', 'Peter', 'Parker', '!']"
      ]
     },
     "execution_count": 13,
     "metadata": {},
     "output_type": "execute_result"
    }
   ],
   "source": [
    "#Tokenization helps in matching parts of speech & common words\n",
    "\n",
    "word_tokenize(\"Hey there Peter Parker!\")"
   ]
  },
  {
   "cell_type": "code",
   "execution_count": 14,
   "metadata": {},
   "outputs": [
    {
     "data": {
      "text/plain": [
       "['I', 'do', \"n't\", 'have', 'enough', '.', 'It', \"'s\", 'quite', 'sad', '!']"
      ]
     },
     "execution_count": 14,
     "metadata": {},
     "output_type": "execute_result"
    }
   ],
   "source": [
    "word_tokenize(\"I don't have enough. It's quite sad!\")"
   ]
  },
  {
   "cell_type": "code",
   "execution_count": 15,
   "metadata": {},
   "outputs": [],
   "source": [
    "# f = open(\"romeo.txt\",\"w+\")"
   ]
  },
  {
   "cell_type": "code",
   "execution_count": 59,
   "metadata": {},
   "outputs": [
    {
     "name": "stdout",
     "output_type": "stream",
     "text": [
      "[\"[Enter ROMEO]\\n\\nBenvolio: See, where he comes: so please you, step aside;\\nI'll know his grievance, or be much denied.\", 'Montague.', 'I would thou wert so happy by thy stay,\\nTo hear true shrift.', \"Come, madam, let's away.\", '[Exeunt MONTAGUE and LADY MONTAGUE]\\n\\nBenvolio.', 'Good-morrow, cousin.', 'Romeo.', 'Is the day so young?', 'Benvolio.', 'But new struck nine.', 'Romeo.', 'Ay me!', 'sad hours seem long.', 'Was that my father that went hence so fast?', 'Benvolio.', 'It was.', \"What sadness lengthens Romeo's hours?\", 'Romeo.', 'Not having that, which, having, makes them short.', 'Benvolio.', 'In love?', 'Romeo.', 'Out-\\nBenvolio: Of love?', 'Romeo: Out of her favour, where I am in love.', 'Benvolio.', 'Alas, that love, so gentle in his view,\\nShould be so tyrannous and rough in proof!', 'Romeo: Alas, that love, whose view is muffled still\\nShould, without eyes, see pathways to his will!', 'Where shall we dine?', 'O me!', 'What fray was here?', 'Yet tell me not, for I have heard it all.', \"Here's much to do with hate, but more with love.\", 'Why, then, O brawling love!', 'O loving hate!', 'O any thing, of nothing first create!', 'O heavy lightness!', 'serious vanity!', 'Mis-shapen chaos of well-seeming forms!', 'Feather of lead, bright smoke, cold fire,\\nsick health!', 'Still-waking sleep, that is not what it is!', 'This love #5 feel I, that feel no love in this.', 'Dost thou not laugh?', 'Benvolio.', 'No, coz, I rather weep.']\n"
     ]
    }
   ],
   "source": [
    "scene_one = open(\"romeo.txt\").read()\n",
    "sentences = sent_tokenize(scene_one)\n",
    "print(sentences)"
   ]
  },
  {
   "cell_type": "code",
   "execution_count": 44,
   "metadata": {},
   "outputs": [
    {
     "name": "stdout",
     "output_type": "stream",
     "text": [
      "['This', 'love', '#', '5', 'feel', 'I', ',', 'that', 'feel', 'no', 'love', 'in', 'this', '.']\n"
     ]
    }
   ],
   "source": [
    "tokenized_sent44 = word_tokenize(sentences[40])\n",
    "print(tokenized_sent44)"
   ]
  },
  {
   "cell_type": "code",
   "execution_count": 45,
   "metadata": {},
   "outputs": [
    {
     "name": "stdout",
     "output_type": "stream",
     "text": [
      "{'day', ']', '#', 'madam', ';', 'Exeunt', 'smoke', 'fire', 'Ay', 'To', 'nine', 'whose', 'dine', 'what', 'shrift', 'you', 'Of', 'will', 'her', 'young', 'not', 'stay', 'ROMEO', 'nothing', '!', 'weep', 'In', 'cousin', 'wert', 'much', '?', 'struck', 'hate', 'proof', 'heavy', ':', 'do', 'gentle', 'any', 'see', 'be', 'But', 'rather', 'thou', 'Feather', 'in', 'sick', 'Was', 'shall', 'Yet', 'O', 'forms', 'Come', 'See', 'would', 'let', 'without', 'more', 'No', '5', 'his', 'lead', 'fast', 'was', ',', 'so', 'them', 'Alas', 'thing', 'true', 'grievance', 'hear', 'still', 'the', 'brawling', 'Should', 'please', 'and', 'rough', 'Mis-shapen', 'this', 'first', 'cold', 'Not', 'Enter', 'me', 'happy', 'Where', 'create', 'It', 'love', 'pathways', 'Out-', 'view', 'sad', '[', 'which', 'but', 'fray', 'feel', 'favour', 'denied', 'is', 'it', 'laugh', 'muffled', '.', 'hours', 'having', 'Why', 'short', 'then', 'to', 'Is', 'with', 'Here', 'bright', 'eyes', 'serious', 'coz', 'vanity', 'health', 'all', 'Dost', 'Montague', 'MONTAGUE', 'went', 'father', 'lengthens', 'where', 'thy', 'chaos', 'I', 'What', 'tyrannous', 'tell', 'heard', 'no', 'hence', 'of', 'have', 'LADY', 'Out', 'Benvolio', 'am', 'This', 'for', \"'ll\", 'loving', 'step', 'new', 'we', 'sleep', 'makes', 'here', 'comes', 'my', 'Still-waking', \"'s\", 'aside', 'Romeo', 'seem', 'sadness', 'lightness', 'long', 'well-seeming', 'Good-morrow', 'he', 'that', 'away', 'by', 'or', 'know'}\n"
     ]
    }
   ],
   "source": [
    "unique_tokens = set(word_tokenize(scene_one))\n",
    "print(unique_tokens)"
   ]
  },
  {
   "cell_type": "code",
   "execution_count": 46,
   "metadata": {},
   "outputs": [
    {
     "name": "stdout",
     "output_type": "stream",
     "text": [
      "545 549\n"
     ]
    }
   ],
   "source": [
    "search = re.search(\"love\", scene_one)\n",
    "print(search.start(), search.end()) #index"
   ]
  },
  {
   "cell_type": "code",
   "execution_count": 47,
   "metadata": {},
   "outputs": [
    {
     "name": "stdout",
     "output_type": "stream",
     "text": [
      "<_sre.SRE_Match object; span=(0, 13), match='[Enter ROMEO]'>\n"
     ]
    }
   ],
   "source": [
    "pattern1 = r\"\\[.*]\" #anthing in brackets\n",
    "print(re.search(pattern1, scene_one))"
   ]
  },
  {
   "cell_type": "code",
   "execution_count": 48,
   "metadata": {},
   "outputs": [
    {
     "name": "stdout",
     "output_type": "stream",
     "text": [
      "None\n"
     ]
    }
   ],
   "source": [
    "pattern2 = r\"[\\w]+:\"\n",
    "print(re.match(pattern2, sentences[40]))"
   ]
  },
  {
   "cell_type": "code",
   "execution_count": 49,
   "metadata": {},
   "outputs": [
    {
     "name": "stdout",
     "output_type": "stream",
     "text": [
      "['This', 'love', '5', 'feel', 'I', 'that', 'feel', 'no', 'love', 'in', 'this']\n",
      "['This', 'love', '#5', 'feel', 'I', 'that', 'feel', 'no', 'love', 'in', 'this']\n",
      "[]\n",
      "[' ', ' ', ' ', ' ', ' ', ' ', ' ', ' ', ' ', ' ']\n"
     ]
    }
   ],
   "source": [
    "print(regexp_tokenize(sentences[40], r\"(\\w+|\\?|!)\"))\n",
    "print(regexp_tokenize(sentences[40], r\"(\\w+|#\\d|\\?|!)\"))\n",
    "print(regexp_tokenize(sentences[40], r\"(#\\d\\w+\\?!)\"))\n",
    "print(regexp_tokenize(sentences[40], r\"\\s+\"))"
   ]
  },
  {
   "cell_type": "code",
   "execution_count": 50,
   "metadata": {},
   "outputs": [],
   "source": [
    "#t = open(\"tweets.txt\",\"w+\")"
   ]
  },
  {
   "cell_type": "code",
   "execution_count": 51,
   "metadata": {},
   "outputs": [
    {
     "name": "stdout",
     "output_type": "stream",
     "text": [
      "['#cool', '#love', '#nlp', '#learning']\n",
      "['#cool', '#love', '@datacamp', '#nlp', '#learning']\n"
     ]
    }
   ],
   "source": [
    "tweets = open(\"tweets.txt\").read()\n",
    "pattern3 = r\"#\\w+\"\n",
    "print(regexp_tokenize(tweets, pattern3))\n",
    "pattern4 = r\"([@#]\\w+)\"\n",
    "print(regexp_tokenize(tweets, pattern4))"
   ]
  },
  {
   "cell_type": "code",
   "execution_count": 52,
   "metadata": {},
   "outputs": [
    {
     "name": "stdout",
     "output_type": "stream",
     "text": [
      "[[\"'\"], ['T'], ['h'], ['i'], ['s'], [], ['i'], ['s'], [], ['#'], ['c'], ['o'], ['o'], ['l'], [], ['a'], ['n'], ['d'], [], ['I'], [], ['#'], ['l'], ['o'], ['v'], ['e'], [], ['i'], ['t'], ['.'], [], [':'], [')'], [\"'\"], [], [\"'\"], ['T'], ['h'], ['a'], ['n'], ['k'], ['s'], [], ['@'], ['d'], ['a'], ['t'], ['a'], ['c'], ['a'], ['m'], ['p'], ['.'], [], ['#'], ['n'], ['l'], ['p'], [], ['#'], ['l'], ['e'], ['a'], ['r'], ['n'], ['i'], ['n'], ['g'], [\"'\"]]\n"
     ]
    }
   ],
   "source": [
    "tknzr = TweetTokenizer()\n",
    "all_tokens = [tknzr.tokenize(t) for t in tweets]\n",
    "print(all_tokens)"
   ]
  },
  {
   "cell_type": "code",
   "execution_count": 53,
   "metadata": {},
   "outputs": [],
   "source": [
    "#non ascii tokenization"
   ]
  },
  {
   "cell_type": "code",
   "execution_count": 54,
   "metadata": {},
   "outputs": [
    {
     "name": "stdout",
     "output_type": "stream",
     "text": [
      "['DuhðŸ˜›', 'Iâ€™ve', 'been', 'laughing', 'for', '10', 'mins', 'straightðŸ˜\\xad', 'Me', 'as', 'a', 'mother', 'ðŸ™', '„']\n",
      "['DuhðŸ', 'Iâ', 'Me']\n",
      "[]\n"
     ]
    }
   ],
   "source": [
    "#t = open(\"famoustweet.txt\",\"w+\")\t\n",
    "famous_tweet = open(\"famoustweet.txt\").read()\n",
    "all_words = word_tokenize(famous_tweet)\n",
    "print(all_words)\n",
    "\n",
    "capital_words = r\"[A-Z\\Ü]\\w+\"\n",
    "print(regexp_tokenize(famous_tweet, capital_words))\n",
    "\n",
    "emoji = \"['\\U0001F300-\\U0001F5FF'|'\\U0001F600-\\U0001F64F'|'\\U0001F680-\\U0001F6FF'|'\\u2600-\\u26FF\\u2700-\\u27BF']\"\n",
    "print(regexp_tokenize(famous_tweet, emoji))"
   ]
  },
  {
   "cell_type": "code",
   "execution_count": 60,
   "metadata": {},
   "outputs": [
    {
     "data": {
      "text/plain": [
       "(array([141.,  32.,  67.,  38.,  19.,   6.,  13.,   4.,   1.,   3.]),\n",
       " array([ 1. ,  2.1,  3.2,  4.3,  5.4,  6.5,  7.6,  8.7,  9.8, 10.9, 12. ]),\n",
       " <a list of 10 Patch objects>)"
      ]
     },
     "execution_count": 60,
     "metadata": {},
     "output_type": "execute_result"
    },
    {
     "data": {
      "image/png": "[encoded data removed]",
      "text/plain": [
       "<Figure size 432x288 with 1 Axes>"
      ]
     },
     "metadata": {
      "needs_background": "light"
     },
     "output_type": "display_data"
    }
   ],
   "source": [
    "scene_one1 = word_tokenize(scene_one)\n",
    "word_len = [len(w) for w in scene_one1]\n",
    "plt.hist(word_len)"
   ]
  },
  {
   "cell_type": "code",
   "execution_count": 61,
   "metadata": {},
   "outputs": [
    {
     "data": {
      "image/png": "[encoded data removed]",
      "text/plain": [
       "<Figure size 432x288 with 1 Axes>"
      ]
     },
     "metadata": {
      "needs_background": "light"
     },
     "output_type": "display_data"
    }
   ],
   "source": [
    "lines = scene_one.split('\\n')\n",
    "pattern = \"[A-Z]{2,}(\\s)?(#\\d)?([A-Z]{2,})?:\"\n",
    "lines = [re.sub(pattern, '', l) for l in lines] #l for lion\n",
    "\n",
    "tokenized_lines = [regexp_tokenize(s,r\"\\w+\") for s in lines]\n",
    "line_num_words = [len(t_line) for t_line in tokenized_lines]\n",
    "\n",
    "plt.hist(line_num_words)\n",
    "plt.show()"
   ]
  },
  {
   "cell_type": "code",
   "execution_count": null,
   "metadata": {},
   "outputs": [],
   "source": []
  }
 ],
 "metadata": {
  "kernelspec": {
   "display_name": "Python 3",
   "language": "python",
   "name": "python3"
  },
  "language_info": {
   "codemirror_mode": {
    "name": "ipython",
    "version": 3
   },
   "file_extension": ".py",
   "mimetype": "text/x-python",
   "name": "python",
   "nbconvert_exporter": "python",
   "pygments_lexer": "ipython3",
   "version": "3.6.7"
  }
 },
 "nbformat": 4,
 "nbformat_minor": 4
}
